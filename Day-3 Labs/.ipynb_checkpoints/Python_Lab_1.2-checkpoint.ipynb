{
 "cells": [
  {
   "cell_type": "markdown",
   "metadata": {},
   "source": [
    "# Python_Lab_1.2"
   ]
  },
  {
   "cell_type": "markdown",
   "metadata": {},
   "source": [
    "### Task 1: \n",
    "1. Create a tuple with the following details:\n",
    "    - Your favorite movie (string)\n",
    "    - The year it was released (integer)\n",
    "    - Its rating out of 10 (float)\n",
    "    - Whether you have watched it (boolean)\n",
    "2. Print the detailes"
   ]
  },
  {
   "cell_type": "code",
   "execution_count": 17,
   "metadata": {},
   "outputs": [
    {
     "name": "stdout",
     "output_type": "stream",
     "text": [
      "<class 'tuple'>\n",
      "favorite movie detailes\n",
      "Name of the movie: interstellar\n",
      "ReLased year: 2014\n",
      "Rating out of 10: 8.7\n",
      "have I watched it: True\n"
     ]
    }
   ],
   "source": [
    "# write your code here ^_^\n",
    "favorite_movie = (\"interstellar\",(2014),8.7,True)\n",
    "print(type(favorite_movie))\n",
    "print('favorite movie detailes')\n",
    "print('Name of the movie:',favorite_movie[0])\n",
    "print('Released year:',favorite_movie[1])\n",
    "print('Rating out of 10:',favorite_movie[2])\n",
    "print('have I watched it:',favorite_movie[3])"
   ]
  },
  {
   "cell_type": "markdown",
   "metadata": {},
   "source": [
    "### Task 2:\n",
    "1. Create a set of 5 favorite colors.\n",
    "2. Print all the colors"
   ]
  },
  {
   "cell_type": "code",
   "execution_count": 23,
   "metadata": {},
   "outputs": [
    {
     "name": "stdout",
     "output_type": "stream",
     "text": [
      "Green\n",
      "Blue\n",
      "Red\n",
      "Black\n",
      "White\n"
     ]
    }
   ],
   "source": [
    "# write your code here ^_^\n",
    "favorite_colors = {'Blue','Red','White','Black','Green'}\n",
    "for i in favorite_colors:\n",
    "    print(i)"
   ]
  },
  {
   "cell_type": "markdown",
   "metadata": {},
   "source": [
    "### Task 3:\n",
    "1. Create a dictionary to store information about 3 friends (name as key and a tuple with age and favorite hobby as value).\n",
    "2. Print the details of all friends."
   ]
  },
  {
   "cell_type": "code",
   "execution_count": 57,
   "metadata": {},
   "outputs": [
    {
     "name": "stdout",
     "output_type": "stream",
     "text": [
      "{'Abdullah': (24, 'Reading'), 'Meshal': (29, 'Playing football'), 'Ryan': (30, 'Cooking')}\n"
     ]
    }
   ],
   "source": [
    "# write your code here ^_^\n",
    "Friends = {'Abdullah':(24,'Reading'), \n",
    "           'Meshal':(29, 'Playing football'), \n",
    "           'Ryan':(30, 'Cooking')}\n",
    "print(Friends)\n"
   ]
  },
  {
   "cell_type": "markdown",
   "metadata": {},
   "source": [
    "### Task 4:\n",
    "1. Check if you have watched the movie and print an appropriate message.\n",
    "1. Check if a specific color is in your favorite colors set and print its availability status."
   ]
  },
  {
   "cell_type": "code",
   "execution_count": 51,
   "metadata": {},
   "outputs": [
    {
     "name": "stdout",
     "output_type": "stream",
     "text": [
      "You have watched the movie\n",
      "You have not watched the movie\n",
      "I have found the color\n"
     ]
    }
   ],
   "source": [
    "# write your code here ^_^\n",
    "if favorite_movie[3] == True:\n",
    "    print('You have watched the movie')\n",
    "\n",
    "print('You have not watched the movie')\n",
    "\n",
    "if 'Green' in favorite_colors:\n",
    "    print('I have found the color')\n",
    "else:\n",
    " print('I have not found the color')"
   ]
  },
  {
   "cell_type": "code",
   "execution_count": null,
   "metadata": {},
   "outputs": [],
   "source": []
  }
 ],
 "metadata": {
  "kernelspec": {
   "display_name": "Python 3 (ipykernel)",
   "language": "python",
   "name": "python3"
  },
  "language_info": {
   "codemirror_mode": {
    "name": "ipython",
    "version": 3
   },
   "file_extension": ".py",
   "mimetype": "text/x-python",
   "name": "python",
   "nbconvert_exporter": "python",
   "pygments_lexer": "ipython3",
   "version": "3.12.4"
  }
 },
 "nbformat": 4,
 "nbformat_minor": 4
}
